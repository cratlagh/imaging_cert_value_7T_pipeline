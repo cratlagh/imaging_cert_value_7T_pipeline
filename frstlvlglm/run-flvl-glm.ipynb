{
 "cells": [
  {
   "cell_type": "markdown",
   "metadata": {},
   "source": [
    "# smooth data and fit first level GLM"
   ]
  },
  {
   "cell_type": "markdown",
   "metadata": {},
   "source": [
    "K. Garner, 2022  \n",
    "This code will smooth the data and fit a first level GLM to each participant's fmri data.  \n",
    "Assumptions:  \n",
    "Data is BIDS enough.  \n"
   ]
  },
  {
   "cell_type": "markdown",
   "metadata": {},
   "source": [
    "## set up environment"
   ]
  },
  {
   "cell_type": "code",
   "execution_count": 1,
   "metadata": {},
   "outputs": [
    {
     "name": "stdout",
     "output_type": "stream",
     "text": [
      "220420-17:04:08,890 nipype.utils WARNING:\n",
      "\t A newer version (1.7.1) of nipy/nipype is available. You are using 1.5.0\n"
     ]
    }
   ],
   "source": [
    "from bids.layout import BIDSLayout\n",
    "from nipype.interfaces.io import BIDSDataGrabber, DataFinder, DataSink, DataGrabber\n",
    "import nipype.pipeline as pe\n",
    "import nipype as ni\n",
    "from nipype.interfaces.utility import Function\n",
    "import nipype.interfaces.fsl.maths as fsl\n",
    "from nipype.interfaces import spm as spm\n",
    "from nipype.algorithms import modelgen as mgen\n",
    "from nipype.algorithms.misc import Gunzip \n",
    "import pandas as pd\n",
    "import os, re, json\n",
    "# https://nipype.readthedocs.io/en/0.11.0/users/spmmcr.html\n",
    "\n",
    "matlab_cmd = '/opt/spm12-r7219/run_spm12.sh /opt/matlabmcr-2010a/v713/ script'\n",
    "spm.SPMCommand.set_mlab_paths(matlab_cmd=matlab_cmd, use_mcr=True)"
   ]
  },
  {
   "cell_type": "markdown",
   "metadata": {},
   "source": [
    "## define source data location and establish workflow"
   ]
  },
  {
   "cell_type": "code",
   "execution_count": 2,
   "metadata": {},
   "outputs": [
    {
     "name": "stderr",
     "output_type": "stream",
     "text": [
      "/opt/miniconda-latest/envs/neuro/lib/python3.6/site-packages/bids/layout/models.py:102: FutureWarning: The 'extension' entity currently excludes the leading dot ('.'). As of version 0.14.0, it will include the leading dot. To suppress this warning and include the leading dot, use `bids.config.set_option('extension_initial_dot', True)`.\n",
      "  FutureWarning)\n"
     ]
    }
   ],
   "source": [
    "basedir = '/scratch/qbi/uqkgarn1/data/'\n",
    "layout = BIDSLayout(basedir)\n",
    "subs = layout.get_subjects()\n",
    "\n",
    "glm = pe.Workflow(name='glms') # workflow to run the analysis"
   ]
  },
  {
   "cell_type": "markdown",
   "metadata": {},
   "source": [
    "## data grabbing"
   ]
  },
  {
   "cell_type": "code",
   "execution_count": 3,
   "metadata": {},
   "outputs": [],
   "source": [
    "dg = pe.Node(DataGrabber(infields= ['sub'], \n",
    "                         outfields=['func', 'motion', 'onsets', 'bjson', 'mask']), \n",
    "                         name='data-grabber')\n",
    "dg.inputs.base_dir = '/scratch/qbi/uqkgarn1/data/derivatives/fmriprep/'\n",
    "\n",
    "\n",
    "dg.inputs.sort_filelist = True\n",
    "dg.inputs.template='*'\n",
    "dg.inputs.template_args = {'func': [['sub', 'sub']],\n",
    "                           'motion':[['sub', 'sub']],\n",
    "                           'onsets':[['sub', 'sub']],\n",
    "                           'bjson':[['sub', 'sub']],\n",
    "                           'mask':[['sub', 'sub']]}\n",
    "dg.inputs.field_template = {'func':   '/scratch/qbi/uqkgarn1/data/derivatives/fmriprep/sub-%s/ses-02/func/sub-%s_*_space-MNI152NLin2009cAsym_desc-preproc_bold.nii.gz',\n",
    "                            'motion': '/scratch/qbi/uqkgarn1/data/derivatives/fmriprep/sub-%s/ses-02/func/sub-%s_ses-02_task-attlearn_run-*_desc-motion_timeseries.txt',\n",
    "                            'onsets': '/scratch/qbi/uqkgarn1/data/derivatives/fmriprep/sub-%s/ses-02/beh/sub-%s_ses-02_task-attlearn_run-*_desc-glm-onsets.json',\n",
    "                            'bjson':  '/scratch/qbi/uqkgarn1/data/derivatives/fmriprep/sub-%s/ses-02/func/sub-%s_ses-02_task-attlearn_run-*_space-MNI152NLin2009cAsym_desc-preproc_bold.json',\n",
    "                            'mask':   '/scratch/qbi/uqkgarn1/data/derivatives/fmriprep/sub-%s/ses-02/anat/sub-%s_ses-02_space-MNI152NLin2009cAsym_label-GM_probseg.nii.gz'}"
   ]
  },
  {
   "cell_type": "code",
   "execution_count": 4,
   "metadata": {},
   "outputs": [
    {
     "name": "stdout",
     "output_type": "stream",
     "text": [
      "220420-17:04:11,577 nipype.workflow INFO:\n",
      "\t [Node] Setting-up \"data-grabber\" in \"/tmp/tmpip7lp223/data-grabber\".\n",
      "220420-17:04:11,585 nipype.workflow INFO:\n",
      "\t [Node] Running \"data-grabber\" (\"nipype.interfaces.io.DataGrabber\")\n",
      "220420-17:04:11,593 nipype.workflow INFO:\n",
      "\t [Node] Finished \"data-grabber\".\n"
     ]
    },
    {
     "data": {
      "text/plain": [
       "\n",
       "bjson = ['/scratch/qbi/uqkgarn1/data/derivatives/fmriprep/sub-01/ses-02/func/sub-01_ses-02_task-attlearn_run-2_space-MNI152NLin2009cAsym_desc-preproc_bold.json', '/scratch/qbi/uqkgarn1/data/derivatives/fmriprep/sub-01/ses-02/func/sub-01_ses-02_task-attlearn_run-3_space-MNI152NLin2009cAsym_desc-preproc_bold.json']\n",
       "func = ['/scratch/qbi/uqkgarn1/data/derivatives/fmriprep/sub-01/ses-02/func/sub-01_ses-02_task-attlearn_run-2_space-MNI152NLin2009cAsym_desc-preproc_bold.nii.gz', '/scratch/qbi/uqkgarn1/data/derivatives/fmriprep/sub-01/ses-02/func/sub-01_ses-02_task-attlearn_run-3_space-MNI152NLin2009cAsym_desc-preproc_bold.nii.gz']\n",
       "mask = /scratch/qbi/uqkgarn1/data/derivatives/fmriprep/sub-01/ses-02/anat/sub-01_ses-02_space-MNI152NLin2009cAsym_label-GM_probseg.nii.gz\n",
       "motion = ['/scratch/qbi/uqkgarn1/data/derivatives/fmriprep/sub-01/ses-02/func/sub-01_ses-02_task-attlearn_run-2_desc-motion_timeseries.txt', '/scratch/qbi/uqkgarn1/data/derivatives/fmriprep/sub-01/ses-02/func/sub-01_ses-02_task-attlearn_run-3_desc-motion_timeseries.txt']\n",
       "onsets = ['/scratch/qbi/uqkgarn1/data/derivatives/fmriprep/sub-01/ses-02/beh/sub-01_ses-02_task-attlearn_run-2_desc-glm-onsets.json', '/scratch/qbi/uqkgarn1/data/derivatives/fmriprep/sub-01/ses-02/beh/sub-01_ses-02_task-attlearn_run-3_desc-glm-onsets.json']"
      ]
     },
     "execution_count": 4,
     "metadata": {},
     "output_type": "execute_result"
    }
   ],
   "source": [
    "dg.inputs.sub = subs[0]\n",
    "res = dg.run()\n",
    "res.outputs"
   ]
  },
  {
   "cell_type": "code",
   "execution_count": 5,
   "metadata": {},
   "outputs": [],
   "source": [
    "info = pe.Node(ni.IdentityInterface(fields=['sub', 'sub']), name = 'info')\n",
    "info.iterables = [('sub', ['01'])]"
   ]
  },
  {
   "cell_type": "code",
   "execution_count": 6,
   "metadata": {},
   "outputs": [],
   "source": [
    "def printSubPath(full_file_path):\n",
    "    # function to split filepath into constituent parts, then print string to add as input to DataSink for the \n",
    "    # container string\n",
    "    # given the full filepath, this extracts the subj/ses folder names for input\n",
    "    # into DataSink\n",
    "    # Args\n",
    "    # -- full_file_path: cell of file names, any one of the data grabber outputs should work\n",
    "    # Returns\n",
    "    # -- string of the form 'sub'0x/ses-0x'\n",
    "    import os\n",
    "    import re\n",
    "    fname = os.path.normpath(full_file_path[0])\n",
    "    l = fname.split(os.sep)\n",
    "    sub = [s for s in l if re.search('sub', s)][0]\n",
    "    ses = [s for s in l if re.search('ses', s)][0]\n",
    "    name = [sub, ses]\n",
    "    name = '/'.join(name)\n",
    "    return name\n",
    "\n"
   ]
  },
  {
   "cell_type": "markdown",
   "metadata": {},
   "source": [
    "## datasink node for data saves"
   ]
  },
  {
   "cell_type": "code",
   "execution_count": 7,
   "metadata": {},
   "outputs": [],
   "source": [
    "ds = pe.Node(DataSink(), name='sink-stuff')\n",
    "ds.inputs.base_directory = \"/scratch/qbi/uqkgarn1/data/derivatives/spm/\"\n",
    "substitutions = [('_sub_([0-9]*)', '')]\n",
    "ds.inputs.regexp_substitutions = substitutions"
   ]
  },
  {
   "cell_type": "markdown",
   "metadata": {},
   "source": [
    "## get design info"
   ]
  },
  {
   "cell_type": "code",
   "execution_count": 8,
   "metadata": {},
   "outputs": [],
   "source": [
    "def getOnsetsJson(input_files):\n",
    "    # reads the onsets for GLM from each run, and puts together as a bunch, ready for use in spm/model def\n",
    "    # Args:\n",
    "    # -- input_files [cell list of filenames] output as 'onsets' from datagrabber\n",
    "    # Returns\n",
    "    # a Bunch of dim n runs, containing the fields 'conditions', 'onsets', 'durations'\n",
    "    from nipype.interfaces.base import Bunch\n",
    "    import json\n",
    "    prt_output = [] #prt=protocol\n",
    "    count = 0\n",
    "    for f in input_files: \n",
    "        count = count + 1\n",
    "        with open(f, \"r+\") as file:\n",
    "            data = json.load(file)\n",
    "            prt_output.insert(count, \n",
    "                              Bunch(conditions=data['names'],\n",
    "                                    onsets=data['onsets'],\n",
    "                                    durations=data['durations']))\n",
    "    return prt_output"
   ]
  },
  {
   "cell_type": "code",
   "execution_count": 9,
   "metadata": {},
   "outputs": [],
   "source": [
    "# now a node to use the getOnsetsJson function in the work flow\n",
    "get_onsets = pe.Node(Function(input_names = ['input_files'],\n",
    "                              output_names = ['prt_output'],\n",
    "                              function = getOnsetsJson),\n",
    "                     name = 'get_prt_onsets')"
   ]
  },
  {
   "cell_type": "markdown",
   "metadata": {},
   "source": [
    "## some unzipping modules so that spm can handle the images\n",
    "\n",
    "Note: I opted to create 2 to avoid output conflicts"
   ]
  },
  {
   "cell_type": "code",
   "execution_count": 10,
   "metadata": {},
   "outputs": [],
   "source": [
    "gunzip_func = pe.MapNode(Gunzip(), name='gunzipfunc', iterfield=['in_file'])\n",
    "gunzip_mask = pe.Node(Gunzip(), name='gunzipmask')"
   ]
  },
  {
   "cell_type": "markdown",
   "metadata": {},
   "source": [
    "## smooth the functional data"
   ]
  },
  {
   "cell_type": "code",
   "execution_count": 11,
   "metadata": {},
   "outputs": [],
   "source": [
    "smooth = pe.Node(spm.Smooth(), name='smooth')\n",
    "smooth.inputs.fwhm = [2, 2, 2]  # play with this for sub 1 "
   ]
  },
  {
   "cell_type": "markdown",
   "metadata": {},
   "source": [
    "## grab the TR for the model specification"
   ]
  },
  {
   "cell_type": "code",
   "execution_count": 12,
   "metadata": {},
   "outputs": [],
   "source": [
    "def getTRJson(input_files):\n",
    "    # extracts the TR in seconds from one of the json files accompanying the T2 images\n",
    "    # Args\n",
    "    # -- input_files: cell list of json files for bold images (bjson from data grabber)\n",
    "    # Returns\n",
    "    # -- TR [numeric]: TR is seconds\n",
    "    import json\n",
    "    with open(input_files[0], \"r+\") as file:\n",
    "            data = json.load(file)\n",
    "            TR = data['RepetitionTime'] \n",
    "    return TR"
   ]
  },
  {
   "cell_type": "code",
   "execution_count": 13,
   "metadata": {},
   "outputs": [],
   "source": [
    "get_tr = pe.Node(Function(input_names=['input_files'],\n",
    "                          output_names=['TR'],\n",
    "                          function=getTRJson),\n",
    "                 name='get_TR')"
   ]
  },
  {
   "cell_type": "markdown",
   "metadata": {},
   "source": [
    "## specify glm, generate design matrix and estimate"
   ]
  },
  {
   "cell_type": "code",
   "execution_count": 14,
   "metadata": {},
   "outputs": [],
   "source": [
    "model_spec = pe.Node(mgen.SpecifySPMModel(concatenate_runs=False,\n",
    "                                         input_units='secs',\n",
    "                                         output_units='secs',\n",
    "                                         high_pass_filter_cutoff=128),\n",
    "                     name=\"modelspec\")"
   ]
  },
  {
   "cell_type": "code",
   "execution_count": 15,
   "metadata": {},
   "outputs": [],
   "source": [
    "level_1_design = pe.Node(spm.Level1Design(bases={'hrf': {'derivs': [1, 1]}},\n",
    "                                          timing_units='secs',\n",
    "                                          model_serial_correlations='FAST',\n",
    "                                          factor_info=[dict(name='tgt_side', levels=2),\n",
    "                                                       dict(name='p', levels=2),\n",
    "                                                       dict(name='val', levels=4)]),\n",
    "                         name=\"level1design\")"
   ]
  },
  {
   "cell_type": "code",
   "execution_count": 16,
   "metadata": {},
   "outputs": [],
   "source": [
    "estimate = pe.Node(spm.EstimateModel(estimation_method={'Classical': 1},\n",
    "                                     write_residuals=False),\n",
    "                                     name=\"estimate\")"
   ]
  },
  {
   "cell_type": "markdown",
   "metadata": {},
   "source": [
    "## Connect workflow and run"
   ]
  },
  {
   "cell_type": "code",
   "execution_count": 17,
   "metadata": {},
   "outputs": [
    {
     "name": "stdout",
     "output_type": "stream",
     "text": [
      "220420-17:04:11,723 nipype.workflow INFO:\n",
      "\t Workflow glms settings: ['check', 'execution', 'logging', 'monitoring']\n",
      "220420-17:04:11,744 nipype.workflow INFO:\n",
      "\t Running serially.\n",
      "220420-17:04:11,745 nipype.workflow INFO:\n",
      "\t [Node] Setting-up \"glms.data-grabber\" in \"/tmp/tmpip7lp223/data-grabber\".\n",
      "220420-17:04:11,747 nipype.workflow INFO:\n",
      "\t [Node] Outdated cache found for \"glms.data-grabber\".\n",
      "220420-17:04:11,752 nipype.workflow INFO:\n",
      "\t [Node] Running \"data-grabber\" (\"nipype.interfaces.io.DataGrabber\")\n",
      "220420-17:04:11,758 nipype.workflow INFO:\n",
      "\t [Node] Finished \"glms.data-grabber\".\n",
      "220420-17:04:11,759 nipype.workflow INFO:\n",
      "\t [Node] Setting-up \"glms.get_TR\" in \"/tmp/tmp4kq4w9ph/glms/_sub_01/get_TR\".\n",
      "220420-17:04:11,763 nipype.workflow INFO:\n",
      "\t [Node] Running \"get_TR\" (\"nipype.interfaces.utility.wrappers.Function\")\n",
      "220420-17:04:11,768 nipype.workflow INFO:\n",
      "\t [Node] Finished \"glms.get_TR\".\n",
      "220420-17:04:11,769 nipype.workflow INFO:\n",
      "\t [Node] Setting-up \"glms.gunzipmask\" in \"/tmp/tmpwm3p3tev/glms/_sub_01/gunzipmask\".\n",
      "220420-17:04:11,774 nipype.workflow INFO:\n",
      "\t [Node] Running \"gunzipmask\" (\"nipype.algorithms.misc.Gunzip\")\n",
      "220420-17:04:12,152 nipype.workflow INFO:\n",
      "\t [Node] Finished \"glms.gunzipmask\".\n",
      "220420-17:04:12,153 nipype.workflow INFO:\n",
      "\t [Node] Setting-up \"glms.gunzipfunc\" in \"/tmp/tmppgpkxfjf/glms/_sub_01/gunzipfunc\".\n",
      "220420-17:04:12,158 nipype.workflow INFO:\n",
      "\t [Node] Setting-up \"_gunzipfunc0\" in \"/tmp/tmppgpkxfjf/glms/_sub_01/gunzipfunc/mapflow/_gunzipfunc0\".\n",
      "220420-17:04:12,161 nipype.workflow INFO:\n",
      "\t [Node] Running \"_gunzipfunc0\" (\"nipype.algorithms.misc.Gunzip\")\n",
      "220420-17:04:28,534 nipype.workflow INFO:\n",
      "\t [Node] Finished \"_gunzipfunc0\".\n",
      "220420-17:04:28,537 nipype.workflow INFO:\n",
      "\t [Node] Setting-up \"_gunzipfunc1\" in \"/tmp/tmppgpkxfjf/glms/_sub_01/gunzipfunc/mapflow/_gunzipfunc1\".\n",
      "220420-17:04:28,541 nipype.workflow INFO:\n",
      "\t [Node] Running \"_gunzipfunc1\" (\"nipype.algorithms.misc.Gunzip\")\n",
      "220420-17:04:44,29 nipype.workflow INFO:\n",
      "\t [Node] Finished \"_gunzipfunc1\".\n",
      "220420-17:04:44,33 nipype.workflow INFO:\n",
      "\t [Node] Finished \"glms.gunzipfunc\".\n",
      "220420-17:04:44,33 nipype.workflow INFO:\n",
      "\t [Node] Setting-up \"glms.smooth\" in \"/tmp/tmpydsnyr9f/glms/_sub_01/smooth\".\n",
      "220420-17:04:44,40 nipype.workflow INFO:\n",
      "\t [Node] Running \"smooth\" (\"nipype.interfaces.spm.preprocess.Smooth\")\n",
      "220420-17:11:24,937 nipype.workflow INFO:\n",
      "\t [Node] Finished \"glms.smooth\".\n",
      "220420-17:11:24,939 nipype.workflow INFO:\n",
      "\t [Node] Setting-up \"glms.get_prt_onsets\" in \"/tmp/tmprcjy6e35/glms/_sub_01/get_prt_onsets\".\n",
      "220420-17:11:24,945 nipype.workflow INFO:\n",
      "\t [Node] Running \"get_prt_onsets\" (\"nipype.interfaces.utility.wrappers.Function\")\n",
      "220420-17:11:24,950 nipype.workflow INFO:\n",
      "\t [Node] Finished \"glms.get_prt_onsets\".\n",
      "220420-17:11:24,951 nipype.workflow INFO:\n",
      "\t [Node] Setting-up \"glms.modelspec\" in \"/tmp/tmpe70bi9ja/glms/_sub_01/modelspec\".\n",
      "220420-17:11:24,964 nipype.workflow INFO:\n",
      "\t [Node] Running \"modelspec\" (\"nipype.algorithms.modelgen.SpecifySPMModel\")\n",
      "220420-17:11:25,84 nipype.workflow INFO:\n",
      "\t [Node] Finished \"glms.modelspec\".\n",
      "220420-17:11:25,85 nipype.workflow INFO:\n",
      "\t [Node] Setting-up \"glms.level1design\" in \"/tmp/tmpb4458j2d/glms/_sub_01/level1design\".\n",
      "220420-17:11:25,419 nipype.workflow INFO:\n",
      "\t [Node] Running \"level1design\" (\"nipype.interfaces.spm.model.Level1Design\")\n",
      "220420-17:12:24,572 nipype.workflow INFO:\n",
      "\t [Node] Finished \"glms.level1design\".\n",
      "220420-17:12:24,573 nipype.workflow INFO:\n",
      "\t [Node] Setting-up \"glms.estimate\" in \"/tmp/tmpbv7z8uau/glms/_sub_01/estimate\".\n",
      "220420-17:12:24,609 nipype.workflow INFO:\n",
      "\t [Node] Running \"estimate\" (\"nipype.interfaces.spm.model.EstimateModel\")\n",
      "220420-17:19:39,380 nipype.workflow INFO:\n",
      "\t [Node] Finished \"glms.estimate\".\n",
      "220420-17:19:39,382 nipype.workflow INFO:\n",
      "\t [Node] Setting-up \"glms.sink-stuff\" in \"/tmp/tmpyktea6bj/glms/_sub_01/sink-stuff\".\n",
      "220420-17:19:39,403 nipype.workflow INFO:\n",
      "\t [Node] Running \"sink-stuff\" (\"nipype.interfaces.io.DataSink\")\n",
      "220420-17:19:39,405 nipype.interface INFO:\n",
      "\t sub: /scratch/qbi/uqkgarn1/data/derivatives/spm/sub-01/ses-02/data/_sub_01/ssub-01_ses-02_task-attlearn_run-2_space-MNI152NLin2009cAsym_desc-preproc_bold.nii -> /scratch/qbi/uqkgarn1/data/derivatives/spm/sub-01/ses-02/data//ssub-01_ses-02_task-attlearn_run-2_space-MNI152NLin2009cAsym_desc-preproc_bold.nii\n",
      "220420-17:19:48,434 nipype.interface INFO:\n",
      "\t sub: /scratch/qbi/uqkgarn1/data/derivatives/spm/sub-01/ses-02/data/_sub_01/ssub-01_ses-02_task-attlearn_run-3_space-MNI152NLin2009cAsym_desc-preproc_bold.nii -> /scratch/qbi/uqkgarn1/data/derivatives/spm/sub-01/ses-02/data//ssub-01_ses-02_task-attlearn_run-3_space-MNI152NLin2009cAsym_desc-preproc_bold.nii\n",
      "220420-17:19:57,516 nipype.interface INFO:\n",
      "\t sub: /scratch/qbi/uqkgarn1/data/derivatives/spm/sub-01/ses-02/flglm/_sub_01/beta_0001.nii -> /scratch/qbi/uqkgarn1/data/derivatives/spm/sub-01/ses-02/flglm//beta_0001.nii\n",
      "220420-17:19:57,584 nipype.interface INFO:\n",
      "\t sub: /scratch/qbi/uqkgarn1/data/derivatives/spm/sub-01/ses-02/flglm/_sub_01/beta_0002.nii -> /scratch/qbi/uqkgarn1/data/derivatives/spm/sub-01/ses-02/flglm//beta_0002.nii\n",
      "220420-17:19:57,656 nipype.interface INFO:\n",
      "\t sub: /scratch/qbi/uqkgarn1/data/derivatives/spm/sub-01/ses-02/flglm/_sub_01/beta_0003.nii -> /scratch/qbi/uqkgarn1/data/derivatives/spm/sub-01/ses-02/flglm//beta_0003.nii\n",
      "220420-17:19:57,732 nipype.interface INFO:\n",
      "\t sub: /scratch/qbi/uqkgarn1/data/derivatives/spm/sub-01/ses-02/flglm/_sub_01/beta_0004.nii -> /scratch/qbi/uqkgarn1/data/derivatives/spm/sub-01/ses-02/flglm//beta_0004.nii\n",
      "220420-17:19:57,794 nipype.interface INFO:\n",
      "\t sub: /scratch/qbi/uqkgarn1/data/derivatives/spm/sub-01/ses-02/flglm/_sub_01/beta_0005.nii -> /scratch/qbi/uqkgarn1/data/derivatives/spm/sub-01/ses-02/flglm//beta_0005.nii\n",
      "220420-17:19:57,866 nipype.interface INFO:\n",
      "\t sub: /scratch/qbi/uqkgarn1/data/derivatives/spm/sub-01/ses-02/flglm/_sub_01/beta_0006.nii -> /scratch/qbi/uqkgarn1/data/derivatives/spm/sub-01/ses-02/flglm//beta_0006.nii\n",
      "220420-17:19:57,935 nipype.interface INFO:\n",
      "\t sub: /scratch/qbi/uqkgarn1/data/derivatives/spm/sub-01/ses-02/flglm/_sub_01/beta_0007.nii -> /scratch/qbi/uqkgarn1/data/derivatives/spm/sub-01/ses-02/flglm//beta_0007.nii\n",
      "220420-17:19:58,2 nipype.interface INFO:\n",
      "\t sub: /scratch/qbi/uqkgarn1/data/derivatives/spm/sub-01/ses-02/flglm/_sub_01/beta_0008.nii -> /scratch/qbi/uqkgarn1/data/derivatives/spm/sub-01/ses-02/flglm//beta_0008.nii\n",
      "220420-17:19:58,75 nipype.interface INFO:\n",
      "\t sub: /scratch/qbi/uqkgarn1/data/derivatives/spm/sub-01/ses-02/flglm/_sub_01/beta_0009.nii -> /scratch/qbi/uqkgarn1/data/derivatives/spm/sub-01/ses-02/flglm//beta_0009.nii\n",
      "220420-17:19:58,143 nipype.interface INFO:\n",
      "\t sub: /scratch/qbi/uqkgarn1/data/derivatives/spm/sub-01/ses-02/flglm/_sub_01/beta_0010.nii -> /scratch/qbi/uqkgarn1/data/derivatives/spm/sub-01/ses-02/flglm//beta_0010.nii\n",
      "220420-17:19:58,211 nipype.interface INFO:\n",
      "\t sub: /scratch/qbi/uqkgarn1/data/derivatives/spm/sub-01/ses-02/flglm/_sub_01/beta_0011.nii -> /scratch/qbi/uqkgarn1/data/derivatives/spm/sub-01/ses-02/flglm//beta_0011.nii\n",
      "220420-17:19:58,284 nipype.interface INFO:\n",
      "\t sub: /scratch/qbi/uqkgarn1/data/derivatives/spm/sub-01/ses-02/flglm/_sub_01/beta_0012.nii -> /scratch/qbi/uqkgarn1/data/derivatives/spm/sub-01/ses-02/flglm//beta_0012.nii\n",
      "220420-17:19:58,353 nipype.interface INFO:\n",
      "\t sub: /scratch/qbi/uqkgarn1/data/derivatives/spm/sub-01/ses-02/flglm/_sub_01/beta_0013.nii -> /scratch/qbi/uqkgarn1/data/derivatives/spm/sub-01/ses-02/flglm//beta_0013.nii\n",
      "220420-17:19:58,424 nipype.interface INFO:\n",
      "\t sub: /scratch/qbi/uqkgarn1/data/derivatives/spm/sub-01/ses-02/flglm/_sub_01/beta_0014.nii -> /scratch/qbi/uqkgarn1/data/derivatives/spm/sub-01/ses-02/flglm//beta_0014.nii\n",
      "220420-17:19:58,491 nipype.interface INFO:\n",
      "\t sub: /scratch/qbi/uqkgarn1/data/derivatives/spm/sub-01/ses-02/flglm/_sub_01/beta_0015.nii -> /scratch/qbi/uqkgarn1/data/derivatives/spm/sub-01/ses-02/flglm//beta_0015.nii\n",
      "220420-17:19:58,557 nipype.interface INFO:\n",
      "\t sub: /scratch/qbi/uqkgarn1/data/derivatives/spm/sub-01/ses-02/flglm/_sub_01/beta_0016.nii -> /scratch/qbi/uqkgarn1/data/derivatives/spm/sub-01/ses-02/flglm//beta_0016.nii\n",
      "220420-17:19:58,631 nipype.interface INFO:\n",
      "\t sub: /scratch/qbi/uqkgarn1/data/derivatives/spm/sub-01/ses-02/flglm/_sub_01/beta_0017.nii -> /scratch/qbi/uqkgarn1/data/derivatives/spm/sub-01/ses-02/flglm//beta_0017.nii\n"
     ]
    },
    {
     "name": "stdout",
     "output_type": "stream",
     "text": [
      "220420-17:19:58,709 nipype.interface INFO:\n",
      "\t sub: /scratch/qbi/uqkgarn1/data/derivatives/spm/sub-01/ses-02/flglm/_sub_01/beta_0018.nii -> /scratch/qbi/uqkgarn1/data/derivatives/spm/sub-01/ses-02/flglm//beta_0018.nii\n",
      "220420-17:19:58,786 nipype.interface INFO:\n",
      "\t sub: /scratch/qbi/uqkgarn1/data/derivatives/spm/sub-01/ses-02/flglm/_sub_01/beta_0019.nii -> /scratch/qbi/uqkgarn1/data/derivatives/spm/sub-01/ses-02/flglm//beta_0019.nii\n",
      "220420-17:19:58,859 nipype.interface INFO:\n",
      "\t sub: /scratch/qbi/uqkgarn1/data/derivatives/spm/sub-01/ses-02/flglm/_sub_01/beta_0020.nii -> /scratch/qbi/uqkgarn1/data/derivatives/spm/sub-01/ses-02/flglm//beta_0020.nii\n",
      "220420-17:19:58,928 nipype.interface INFO:\n",
      "\t sub: /scratch/qbi/uqkgarn1/data/derivatives/spm/sub-01/ses-02/flglm/_sub_01/beta_0021.nii -> /scratch/qbi/uqkgarn1/data/derivatives/spm/sub-01/ses-02/flglm//beta_0021.nii\n",
      "220420-17:19:59,4 nipype.interface INFO:\n",
      "\t sub: /scratch/qbi/uqkgarn1/data/derivatives/spm/sub-01/ses-02/flglm/_sub_01/beta_0022.nii -> /scratch/qbi/uqkgarn1/data/derivatives/spm/sub-01/ses-02/flglm//beta_0022.nii\n",
      "220420-17:19:59,75 nipype.interface INFO:\n",
      "\t sub: /scratch/qbi/uqkgarn1/data/derivatives/spm/sub-01/ses-02/flglm/_sub_01/beta_0023.nii -> /scratch/qbi/uqkgarn1/data/derivatives/spm/sub-01/ses-02/flglm//beta_0023.nii\n",
      "220420-17:19:59,159 nipype.interface INFO:\n",
      "\t sub: /scratch/qbi/uqkgarn1/data/derivatives/spm/sub-01/ses-02/flglm/_sub_01/beta_0024.nii -> /scratch/qbi/uqkgarn1/data/derivatives/spm/sub-01/ses-02/flglm//beta_0024.nii\n",
      "220420-17:19:59,236 nipype.interface INFO:\n",
      "\t sub: /scratch/qbi/uqkgarn1/data/derivatives/spm/sub-01/ses-02/flglm/_sub_01/beta_0025.nii -> /scratch/qbi/uqkgarn1/data/derivatives/spm/sub-01/ses-02/flglm//beta_0025.nii\n",
      "220420-17:19:59,306 nipype.interface INFO:\n",
      "\t sub: /scratch/qbi/uqkgarn1/data/derivatives/spm/sub-01/ses-02/flglm/_sub_01/beta_0026.nii -> /scratch/qbi/uqkgarn1/data/derivatives/spm/sub-01/ses-02/flglm//beta_0026.nii\n",
      "220420-17:19:59,395 nipype.interface INFO:\n",
      "\t sub: /scratch/qbi/uqkgarn1/data/derivatives/spm/sub-01/ses-02/flglm/_sub_01/beta_0027.nii -> /scratch/qbi/uqkgarn1/data/derivatives/spm/sub-01/ses-02/flglm//beta_0027.nii\n",
      "220420-17:19:59,482 nipype.interface INFO:\n",
      "\t sub: /scratch/qbi/uqkgarn1/data/derivatives/spm/sub-01/ses-02/flglm/_sub_01/beta_0028.nii -> /scratch/qbi/uqkgarn1/data/derivatives/spm/sub-01/ses-02/flglm//beta_0028.nii\n",
      "220420-17:19:59,552 nipype.interface INFO:\n",
      "\t sub: /scratch/qbi/uqkgarn1/data/derivatives/spm/sub-01/ses-02/flglm/_sub_01/beta_0029.nii -> /scratch/qbi/uqkgarn1/data/derivatives/spm/sub-01/ses-02/flglm//beta_0029.nii\n",
      "220420-17:19:59,631 nipype.interface INFO:\n",
      "\t sub: /scratch/qbi/uqkgarn1/data/derivatives/spm/sub-01/ses-02/flglm/_sub_01/beta_0030.nii -> /scratch/qbi/uqkgarn1/data/derivatives/spm/sub-01/ses-02/flglm//beta_0030.nii\n",
      "220420-17:19:59,698 nipype.interface INFO:\n",
      "\t sub: /scratch/qbi/uqkgarn1/data/derivatives/spm/sub-01/ses-02/flglm/_sub_01/beta_0031.nii -> /scratch/qbi/uqkgarn1/data/derivatives/spm/sub-01/ses-02/flglm//beta_0031.nii\n",
      "220420-17:19:59,760 nipype.interface INFO:\n",
      "\t sub: /scratch/qbi/uqkgarn1/data/derivatives/spm/sub-01/ses-02/flglm/_sub_01/beta_0032.nii -> /scratch/qbi/uqkgarn1/data/derivatives/spm/sub-01/ses-02/flglm//beta_0032.nii\n",
      "220420-17:19:59,830 nipype.interface INFO:\n",
      "\t sub: /scratch/qbi/uqkgarn1/data/derivatives/spm/sub-01/ses-02/flglm/_sub_01/beta_0033.nii -> /scratch/qbi/uqkgarn1/data/derivatives/spm/sub-01/ses-02/flglm//beta_0033.nii\n",
      "220420-17:19:59,899 nipype.interface INFO:\n",
      "\t sub: /scratch/qbi/uqkgarn1/data/derivatives/spm/sub-01/ses-02/flglm/_sub_01/beta_0034.nii -> /scratch/qbi/uqkgarn1/data/derivatives/spm/sub-01/ses-02/flglm//beta_0034.nii\n",
      "220420-17:19:59,977 nipype.interface INFO:\n",
      "\t sub: /scratch/qbi/uqkgarn1/data/derivatives/spm/sub-01/ses-02/flglm/_sub_01/beta_0035.nii -> /scratch/qbi/uqkgarn1/data/derivatives/spm/sub-01/ses-02/flglm//beta_0035.nii\n",
      "220420-17:20:00,40 nipype.interface INFO:\n",
      "\t sub: /scratch/qbi/uqkgarn1/data/derivatives/spm/sub-01/ses-02/flglm/_sub_01/beta_0036.nii -> /scratch/qbi/uqkgarn1/data/derivatives/spm/sub-01/ses-02/flglm//beta_0036.nii\n",
      "220420-17:20:00,108 nipype.interface INFO:\n",
      "\t sub: /scratch/qbi/uqkgarn1/data/derivatives/spm/sub-01/ses-02/flglm/_sub_01/beta_0037.nii -> /scratch/qbi/uqkgarn1/data/derivatives/spm/sub-01/ses-02/flglm//beta_0037.nii\n",
      "220420-17:20:00,196 nipype.interface INFO:\n",
      "\t sub: /scratch/qbi/uqkgarn1/data/derivatives/spm/sub-01/ses-02/flglm/_sub_01/beta_0038.nii -> /scratch/qbi/uqkgarn1/data/derivatives/spm/sub-01/ses-02/flglm//beta_0038.nii\n",
      "220420-17:20:00,276 nipype.interface INFO:\n",
      "\t sub: /scratch/qbi/uqkgarn1/data/derivatives/spm/sub-01/ses-02/flglm/_sub_01/beta_0039.nii -> /scratch/qbi/uqkgarn1/data/derivatives/spm/sub-01/ses-02/flglm//beta_0039.nii\n",
      "220420-17:20:00,346 nipype.interface INFO:\n",
      "\t sub: /scratch/qbi/uqkgarn1/data/derivatives/spm/sub-01/ses-02/flglm/_sub_01/beta_0040.nii -> /scratch/qbi/uqkgarn1/data/derivatives/spm/sub-01/ses-02/flglm//beta_0040.nii\n",
      "220420-17:20:00,411 nipype.interface INFO:\n",
      "\t sub: /scratch/qbi/uqkgarn1/data/derivatives/spm/sub-01/ses-02/flglm/_sub_01/beta_0041.nii -> /scratch/qbi/uqkgarn1/data/derivatives/spm/sub-01/ses-02/flglm//beta_0041.nii\n",
      "220420-17:20:00,490 nipype.interface INFO:\n",
      "\t sub: /scratch/qbi/uqkgarn1/data/derivatives/spm/sub-01/ses-02/flglm/_sub_01/beta_0042.nii -> /scratch/qbi/uqkgarn1/data/derivatives/spm/sub-01/ses-02/flglm//beta_0042.nii\n",
      "220420-17:20:00,551 nipype.interface INFO:\n",
      "\t sub: /scratch/qbi/uqkgarn1/data/derivatives/spm/sub-01/ses-02/flglm/_sub_01/beta_0043.nii -> /scratch/qbi/uqkgarn1/data/derivatives/spm/sub-01/ses-02/flglm//beta_0043.nii\n",
      "220420-17:20:00,611 nipype.interface INFO:\n",
      "\t sub: /scratch/qbi/uqkgarn1/data/derivatives/spm/sub-01/ses-02/flglm/_sub_01/beta_0044.nii -> /scratch/qbi/uqkgarn1/data/derivatives/spm/sub-01/ses-02/flglm//beta_0044.nii\n",
      "220420-17:20:00,671 nipype.interface INFO:\n",
      "\t sub: /scratch/qbi/uqkgarn1/data/derivatives/spm/sub-01/ses-02/flglm/_sub_01/beta_0045.nii -> /scratch/qbi/uqkgarn1/data/derivatives/spm/sub-01/ses-02/flglm//beta_0045.nii\n",
      "220420-17:20:00,744 nipype.interface INFO:\n",
      "\t sub: /scratch/qbi/uqkgarn1/data/derivatives/spm/sub-01/ses-02/flglm/_sub_01/beta_0046.nii -> /scratch/qbi/uqkgarn1/data/derivatives/spm/sub-01/ses-02/flglm//beta_0046.nii\n",
      "220420-17:20:00,808 nipype.interface INFO:\n",
      "\t sub: /scratch/qbi/uqkgarn1/data/derivatives/spm/sub-01/ses-02/flglm/_sub_01/beta_0047.nii -> /scratch/qbi/uqkgarn1/data/derivatives/spm/sub-01/ses-02/flglm//beta_0047.nii\n",
      "220420-17:20:00,882 nipype.interface INFO:\n",
      "\t sub: /scratch/qbi/uqkgarn1/data/derivatives/spm/sub-01/ses-02/flglm/_sub_01/beta_0048.nii -> /scratch/qbi/uqkgarn1/data/derivatives/spm/sub-01/ses-02/flglm//beta_0048.nii\n",
      "220420-17:20:00,946 nipype.interface INFO:\n",
      "\t sub: /scratch/qbi/uqkgarn1/data/derivatives/spm/sub-01/ses-02/flglm/_sub_01/beta_0049.nii -> /scratch/qbi/uqkgarn1/data/derivatives/spm/sub-01/ses-02/flglm//beta_0049.nii\n",
      "220420-17:20:01,21 nipype.interface INFO:\n",
      "\t sub: /scratch/qbi/uqkgarn1/data/derivatives/spm/sub-01/ses-02/flglm/_sub_01/beta_0050.nii -> /scratch/qbi/uqkgarn1/data/derivatives/spm/sub-01/ses-02/flglm//beta_0050.nii\n",
      "220420-17:20:01,95 nipype.interface INFO:\n",
      "\t sub: /scratch/qbi/uqkgarn1/data/derivatives/spm/sub-01/ses-02/flglm/_sub_01/beta_0051.nii -> /scratch/qbi/uqkgarn1/data/derivatives/spm/sub-01/ses-02/flglm//beta_0051.nii\n",
      "220420-17:20:01,158 nipype.interface INFO:\n",
      "\t sub: /scratch/qbi/uqkgarn1/data/derivatives/spm/sub-01/ses-02/flglm/_sub_01/beta_0052.nii -> /scratch/qbi/uqkgarn1/data/derivatives/spm/sub-01/ses-02/flglm//beta_0052.nii\n",
      "220420-17:20:01,224 nipype.interface INFO:\n",
      "\t sub: /scratch/qbi/uqkgarn1/data/derivatives/spm/sub-01/ses-02/flglm/_sub_01/beta_0053.nii -> /scratch/qbi/uqkgarn1/data/derivatives/spm/sub-01/ses-02/flglm//beta_0053.nii\n",
      "220420-17:20:01,287 nipype.interface INFO:\n",
      "\t sub: /scratch/qbi/uqkgarn1/data/derivatives/spm/sub-01/ses-02/flglm/_sub_01/beta_0054.nii -> /scratch/qbi/uqkgarn1/data/derivatives/spm/sub-01/ses-02/flglm//beta_0054.nii\n",
      "220420-17:20:01,367 nipype.interface INFO:\n",
      "\t sub: /scratch/qbi/uqkgarn1/data/derivatives/spm/sub-01/ses-02/flglm/_sub_01/beta_0055.nii -> /scratch/qbi/uqkgarn1/data/derivatives/spm/sub-01/ses-02/flglm//beta_0055.nii\n"
     ]
    },
    {
     "name": "stdout",
     "output_type": "stream",
     "text": [
      "220420-17:20:01,438 nipype.interface INFO:\n",
      "\t sub: /scratch/qbi/uqkgarn1/data/derivatives/spm/sub-01/ses-02/flglm/_sub_01/beta_0056.nii -> /scratch/qbi/uqkgarn1/data/derivatives/spm/sub-01/ses-02/flglm//beta_0056.nii\n",
      "220420-17:20:01,516 nipype.interface INFO:\n",
      "\t sub: /scratch/qbi/uqkgarn1/data/derivatives/spm/sub-01/ses-02/flglm/_sub_01/beta_0057.nii -> /scratch/qbi/uqkgarn1/data/derivatives/spm/sub-01/ses-02/flglm//beta_0057.nii\n",
      "220420-17:20:01,589 nipype.interface INFO:\n",
      "\t sub: /scratch/qbi/uqkgarn1/data/derivatives/spm/sub-01/ses-02/flglm/_sub_01/beta_0058.nii -> /scratch/qbi/uqkgarn1/data/derivatives/spm/sub-01/ses-02/flglm//beta_0058.nii\n",
      "220420-17:20:01,656 nipype.interface INFO:\n",
      "\t sub: /scratch/qbi/uqkgarn1/data/derivatives/spm/sub-01/ses-02/flglm/_sub_01/beta_0059.nii -> /scratch/qbi/uqkgarn1/data/derivatives/spm/sub-01/ses-02/flglm//beta_0059.nii\n",
      "220420-17:20:01,723 nipype.interface INFO:\n",
      "\t sub: /scratch/qbi/uqkgarn1/data/derivatives/spm/sub-01/ses-02/flglm/_sub_01/beta_0060.nii -> /scratch/qbi/uqkgarn1/data/derivatives/spm/sub-01/ses-02/flglm//beta_0060.nii\n",
      "220420-17:20:01,790 nipype.interface INFO:\n",
      "\t sub: /scratch/qbi/uqkgarn1/data/derivatives/spm/sub-01/ses-02/flglm/_sub_01/beta_0061.nii -> /scratch/qbi/uqkgarn1/data/derivatives/spm/sub-01/ses-02/flglm//beta_0061.nii\n",
      "220420-17:20:01,883 nipype.interface INFO:\n",
      "\t sub: /scratch/qbi/uqkgarn1/data/derivatives/spm/sub-01/ses-02/flglm/_sub_01/beta_0062.nii -> /scratch/qbi/uqkgarn1/data/derivatives/spm/sub-01/ses-02/flglm//beta_0062.nii\n",
      "220420-17:20:01,954 nipype.interface INFO:\n",
      "\t sub: /scratch/qbi/uqkgarn1/data/derivatives/spm/sub-01/ses-02/flglm/_sub_01/beta_0063.nii -> /scratch/qbi/uqkgarn1/data/derivatives/spm/sub-01/ses-02/flglm//beta_0063.nii\n",
      "220420-17:20:02,18 nipype.interface INFO:\n",
      "\t sub: /scratch/qbi/uqkgarn1/data/derivatives/spm/sub-01/ses-02/flglm/_sub_01/beta_0064.nii -> /scratch/qbi/uqkgarn1/data/derivatives/spm/sub-01/ses-02/flglm//beta_0064.nii\n",
      "220420-17:20:02,87 nipype.interface INFO:\n",
      "\t sub: /scratch/qbi/uqkgarn1/data/derivatives/spm/sub-01/ses-02/flglm/_sub_01/beta_0065.nii -> /scratch/qbi/uqkgarn1/data/derivatives/spm/sub-01/ses-02/flglm//beta_0065.nii\n",
      "220420-17:20:02,154 nipype.interface INFO:\n",
      "\t sub: /scratch/qbi/uqkgarn1/data/derivatives/spm/sub-01/ses-02/flglm/_sub_01/beta_0066.nii -> /scratch/qbi/uqkgarn1/data/derivatives/spm/sub-01/ses-02/flglm//beta_0066.nii\n",
      "220420-17:20:02,219 nipype.interface INFO:\n",
      "\t sub: /scratch/qbi/uqkgarn1/data/derivatives/spm/sub-01/ses-02/flglm/_sub_01/beta_0067.nii -> /scratch/qbi/uqkgarn1/data/derivatives/spm/sub-01/ses-02/flglm//beta_0067.nii\n",
      "220420-17:20:02,291 nipype.interface INFO:\n",
      "\t sub: /scratch/qbi/uqkgarn1/data/derivatives/spm/sub-01/ses-02/flglm/_sub_01/beta_0068.nii -> /scratch/qbi/uqkgarn1/data/derivatives/spm/sub-01/ses-02/flglm//beta_0068.nii\n",
      "220420-17:20:02,369 nipype.interface INFO:\n",
      "\t sub: /scratch/qbi/uqkgarn1/data/derivatives/spm/sub-01/ses-02/flglm/_sub_01/beta_0069.nii -> /scratch/qbi/uqkgarn1/data/derivatives/spm/sub-01/ses-02/flglm//beta_0069.nii\n",
      "220420-17:20:02,430 nipype.interface INFO:\n",
      "\t sub: /scratch/qbi/uqkgarn1/data/derivatives/spm/sub-01/ses-02/flglm/_sub_01/beta_0070.nii -> /scratch/qbi/uqkgarn1/data/derivatives/spm/sub-01/ses-02/flglm//beta_0070.nii\n",
      "220420-17:20:02,497 nipype.interface INFO:\n",
      "\t sub: /scratch/qbi/uqkgarn1/data/derivatives/spm/sub-01/ses-02/flglm/_sub_01/beta_0071.nii -> /scratch/qbi/uqkgarn1/data/derivatives/spm/sub-01/ses-02/flglm//beta_0071.nii\n",
      "220420-17:20:02,558 nipype.interface INFO:\n",
      "\t sub: /scratch/qbi/uqkgarn1/data/derivatives/spm/sub-01/ses-02/flglm/_sub_01/beta_0072.nii -> /scratch/qbi/uqkgarn1/data/derivatives/spm/sub-01/ses-02/flglm//beta_0072.nii\n",
      "220420-17:20:02,620 nipype.interface INFO:\n",
      "\t sub: /scratch/qbi/uqkgarn1/data/derivatives/spm/sub-01/ses-02/flglm/_sub_01/beta_0073.nii -> /scratch/qbi/uqkgarn1/data/derivatives/spm/sub-01/ses-02/flglm//beta_0073.nii\n",
      "220420-17:20:02,696 nipype.interface INFO:\n",
      "\t sub: /scratch/qbi/uqkgarn1/data/derivatives/spm/sub-01/ses-02/flglm/_sub_01/beta_0074.nii -> /scratch/qbi/uqkgarn1/data/derivatives/spm/sub-01/ses-02/flglm//beta_0074.nii\n",
      "220420-17:20:02,756 nipype.interface INFO:\n",
      "\t sub: /scratch/qbi/uqkgarn1/data/derivatives/spm/sub-01/ses-02/flglm/_sub_01/beta_0075.nii -> /scratch/qbi/uqkgarn1/data/derivatives/spm/sub-01/ses-02/flglm//beta_0075.nii\n",
      "220420-17:20:02,857 nipype.interface INFO:\n",
      "\t sub: /scratch/qbi/uqkgarn1/data/derivatives/spm/sub-01/ses-02/flglm/_sub_01/beta_0076.nii -> /scratch/qbi/uqkgarn1/data/derivatives/spm/sub-01/ses-02/flglm//beta_0076.nii\n",
      "220420-17:20:02,934 nipype.interface INFO:\n",
      "\t sub: /scratch/qbi/uqkgarn1/data/derivatives/spm/sub-01/ses-02/flglm/_sub_01/beta_0077.nii -> /scratch/qbi/uqkgarn1/data/derivatives/spm/sub-01/ses-02/flglm//beta_0077.nii\n",
      "220420-17:20:03,1 nipype.interface INFO:\n",
      "\t sub: /scratch/qbi/uqkgarn1/data/derivatives/spm/sub-01/ses-02/flglm/_sub_01/beta_0078.nii -> /scratch/qbi/uqkgarn1/data/derivatives/spm/sub-01/ses-02/flglm//beta_0078.nii\n",
      "220420-17:20:03,66 nipype.interface INFO:\n",
      "\t sub: /scratch/qbi/uqkgarn1/data/derivatives/spm/sub-01/ses-02/flglm/_sub_01/beta_0079.nii -> /scratch/qbi/uqkgarn1/data/derivatives/spm/sub-01/ses-02/flglm//beta_0079.nii\n",
      "220420-17:20:03,135 nipype.interface INFO:\n",
      "\t sub: /scratch/qbi/uqkgarn1/data/derivatives/spm/sub-01/ses-02/flglm/_sub_01/beta_0080.nii -> /scratch/qbi/uqkgarn1/data/derivatives/spm/sub-01/ses-02/flglm//beta_0080.nii\n",
      "220420-17:20:03,207 nipype.interface INFO:\n",
      "\t sub: /scratch/qbi/uqkgarn1/data/derivatives/spm/sub-01/ses-02/flglm/_sub_01/beta_0081.nii -> /scratch/qbi/uqkgarn1/data/derivatives/spm/sub-01/ses-02/flglm//beta_0081.nii\n",
      "220420-17:20:03,281 nipype.interface INFO:\n",
      "\t sub: /scratch/qbi/uqkgarn1/data/derivatives/spm/sub-01/ses-02/flglm/_sub_01/beta_0082.nii -> /scratch/qbi/uqkgarn1/data/derivatives/spm/sub-01/ses-02/flglm//beta_0082.nii\n",
      "220420-17:20:03,351 nipype.interface INFO:\n",
      "\t sub: /scratch/qbi/uqkgarn1/data/derivatives/spm/sub-01/ses-02/flglm/_sub_01/beta_0083.nii -> /scratch/qbi/uqkgarn1/data/derivatives/spm/sub-01/ses-02/flglm//beta_0083.nii\n",
      "220420-17:20:03,435 nipype.interface INFO:\n",
      "\t sub: /scratch/qbi/uqkgarn1/data/derivatives/spm/sub-01/ses-02/flglm/_sub_01/beta_0084.nii -> /scratch/qbi/uqkgarn1/data/derivatives/spm/sub-01/ses-02/flglm//beta_0084.nii\n",
      "220420-17:20:03,496 nipype.interface INFO:\n",
      "\t sub: /scratch/qbi/uqkgarn1/data/derivatives/spm/sub-01/ses-02/flglm/_sub_01/beta_0085.nii -> /scratch/qbi/uqkgarn1/data/derivatives/spm/sub-01/ses-02/flglm//beta_0085.nii\n",
      "220420-17:20:03,561 nipype.interface INFO:\n",
      "\t sub: /scratch/qbi/uqkgarn1/data/derivatives/spm/sub-01/ses-02/flglm/_sub_01/beta_0086.nii -> /scratch/qbi/uqkgarn1/data/derivatives/spm/sub-01/ses-02/flglm//beta_0086.nii\n",
      "220420-17:20:03,630 nipype.interface INFO:\n",
      "\t sub: /scratch/qbi/uqkgarn1/data/derivatives/spm/sub-01/ses-02/flglm/_sub_01/beta_0087.nii -> /scratch/qbi/uqkgarn1/data/derivatives/spm/sub-01/ses-02/flglm//beta_0087.nii\n",
      "220420-17:20:03,711 nipype.interface INFO:\n",
      "\t sub: /scratch/qbi/uqkgarn1/data/derivatives/spm/sub-01/ses-02/flglm/_sub_01/beta_0088.nii -> /scratch/qbi/uqkgarn1/data/derivatives/spm/sub-01/ses-02/flglm//beta_0088.nii\n",
      "220420-17:20:03,793 nipype.interface INFO:\n",
      "\t sub: /scratch/qbi/uqkgarn1/data/derivatives/spm/sub-01/ses-02/flglm/_sub_01/beta_0089.nii -> /scratch/qbi/uqkgarn1/data/derivatives/spm/sub-01/ses-02/flglm//beta_0089.nii\n",
      "220420-17:20:03,863 nipype.interface INFO:\n",
      "\t sub: /scratch/qbi/uqkgarn1/data/derivatives/spm/sub-01/ses-02/flglm/_sub_01/beta_0090.nii -> /scratch/qbi/uqkgarn1/data/derivatives/spm/sub-01/ses-02/flglm//beta_0090.nii\n",
      "220420-17:20:03,933 nipype.interface INFO:\n",
      "\t sub: /scratch/qbi/uqkgarn1/data/derivatives/spm/sub-01/ses-02/flglm/_sub_01/beta_0091.nii -> /scratch/qbi/uqkgarn1/data/derivatives/spm/sub-01/ses-02/flglm//beta_0091.nii\n",
      "220420-17:20:04,14 nipype.interface INFO:\n",
      "\t sub: /scratch/qbi/uqkgarn1/data/derivatives/spm/sub-01/ses-02/flglm/_sub_01/beta_0092.nii -> /scratch/qbi/uqkgarn1/data/derivatives/spm/sub-01/ses-02/flglm//beta_0092.nii\n",
      "220420-17:20:04,91 nipype.interface INFO:\n",
      "\t sub: /scratch/qbi/uqkgarn1/data/derivatives/spm/sub-01/ses-02/flglm/_sub_01/beta_0093.nii -> /scratch/qbi/uqkgarn1/data/derivatives/spm/sub-01/ses-02/flglm//beta_0093.nii\n"
     ]
    },
    {
     "name": "stdout",
     "output_type": "stream",
     "text": [
      "220420-17:20:04,161 nipype.interface INFO:\n",
      "\t sub: /scratch/qbi/uqkgarn1/data/derivatives/spm/sub-01/ses-02/flglm/_sub_01/beta_0094.nii -> /scratch/qbi/uqkgarn1/data/derivatives/spm/sub-01/ses-02/flglm//beta_0094.nii\n",
      "220420-17:20:04,228 nipype.interface INFO:\n",
      "\t sub: /scratch/qbi/uqkgarn1/data/derivatives/spm/sub-01/ses-02/flglm/_sub_01/beta_0095.nii -> /scratch/qbi/uqkgarn1/data/derivatives/spm/sub-01/ses-02/flglm//beta_0095.nii\n",
      "220420-17:20:04,295 nipype.interface INFO:\n",
      "\t sub: /scratch/qbi/uqkgarn1/data/derivatives/spm/sub-01/ses-02/flglm/_sub_01/beta_0096.nii -> /scratch/qbi/uqkgarn1/data/derivatives/spm/sub-01/ses-02/flglm//beta_0096.nii\n",
      "220420-17:20:04,362 nipype.interface INFO:\n",
      "\t sub: /scratch/qbi/uqkgarn1/data/derivatives/spm/sub-01/ses-02/flglm/_sub_01/beta_0097.nii -> /scratch/qbi/uqkgarn1/data/derivatives/spm/sub-01/ses-02/flglm//beta_0097.nii\n",
      "220420-17:20:04,423 nipype.interface INFO:\n",
      "\t sub: /scratch/qbi/uqkgarn1/data/derivatives/spm/sub-01/ses-02/flglm/_sub_01/beta_0098.nii -> /scratch/qbi/uqkgarn1/data/derivatives/spm/sub-01/ses-02/flglm//beta_0098.nii\n",
      "220420-17:20:04,507 nipype.interface INFO:\n",
      "\t sub: /scratch/qbi/uqkgarn1/data/derivatives/spm/sub-01/ses-02/flglm/_sub_01/beta_0099.nii -> /scratch/qbi/uqkgarn1/data/derivatives/spm/sub-01/ses-02/flglm//beta_0099.nii\n",
      "220420-17:20:04,570 nipype.interface INFO:\n",
      "\t sub: /scratch/qbi/uqkgarn1/data/derivatives/spm/sub-01/ses-02/flglm/_sub_01/beta_0100.nii -> /scratch/qbi/uqkgarn1/data/derivatives/spm/sub-01/ses-02/flglm//beta_0100.nii\n",
      "220420-17:20:04,639 nipype.interface INFO:\n",
      "\t sub: /scratch/qbi/uqkgarn1/data/derivatives/spm/sub-01/ses-02/flglm/_sub_01/beta_0101.nii -> /scratch/qbi/uqkgarn1/data/derivatives/spm/sub-01/ses-02/flglm//beta_0101.nii\n",
      "220420-17:20:04,713 nipype.interface INFO:\n",
      "\t sub: /scratch/qbi/uqkgarn1/data/derivatives/spm/sub-01/ses-02/flglm/_sub_01/beta_0102.nii -> /scratch/qbi/uqkgarn1/data/derivatives/spm/sub-01/ses-02/flglm//beta_0102.nii\n",
      "220420-17:20:04,784 nipype.interface INFO:\n",
      "\t sub: /scratch/qbi/uqkgarn1/data/derivatives/spm/sub-01/ses-02/flglm/_sub_01/beta_0103.nii -> /scratch/qbi/uqkgarn1/data/derivatives/spm/sub-01/ses-02/flglm//beta_0103.nii\n",
      "220420-17:20:04,856 nipype.interface INFO:\n",
      "\t sub: /scratch/qbi/uqkgarn1/data/derivatives/spm/sub-01/ses-02/flglm/_sub_01/beta_0104.nii -> /scratch/qbi/uqkgarn1/data/derivatives/spm/sub-01/ses-02/flglm//beta_0104.nii\n",
      "220420-17:20:04,928 nipype.interface INFO:\n",
      "\t sub: /scratch/qbi/uqkgarn1/data/derivatives/spm/sub-01/ses-02/flglm/_sub_01/beta_0105.nii -> /scratch/qbi/uqkgarn1/data/derivatives/spm/sub-01/ses-02/flglm//beta_0105.nii\n",
      "220420-17:20:04,998 nipype.interface INFO:\n",
      "\t sub: /scratch/qbi/uqkgarn1/data/derivatives/spm/sub-01/ses-02/flglm/_sub_01/beta_0106.nii -> /scratch/qbi/uqkgarn1/data/derivatives/spm/sub-01/ses-02/flglm//beta_0106.nii\n",
      "220420-17:20:05,70 nipype.interface INFO:\n",
      "\t sub: /scratch/qbi/uqkgarn1/data/derivatives/spm/sub-01/ses-02/flglm/_sub_01/beta_0107.nii -> /scratch/qbi/uqkgarn1/data/derivatives/spm/sub-01/ses-02/flglm//beta_0107.nii\n",
      "220420-17:20:05,152 nipype.interface INFO:\n",
      "\t sub: /scratch/qbi/uqkgarn1/data/derivatives/spm/sub-01/ses-02/flglm/_sub_01/beta_0108.nii -> /scratch/qbi/uqkgarn1/data/derivatives/spm/sub-01/ses-02/flglm//beta_0108.nii\n",
      "220420-17:20:05,240 nipype.interface INFO:\n",
      "\t sub: /scratch/qbi/uqkgarn1/data/derivatives/spm/sub-01/ses-02/flglm/_sub_01/beta_0109.nii -> /scratch/qbi/uqkgarn1/data/derivatives/spm/sub-01/ses-02/flglm//beta_0109.nii\n",
      "220420-17:20:05,308 nipype.interface INFO:\n",
      "\t sub: /scratch/qbi/uqkgarn1/data/derivatives/spm/sub-01/ses-02/flglm/_sub_01/beta_0110.nii -> /scratch/qbi/uqkgarn1/data/derivatives/spm/sub-01/ses-02/flglm//beta_0110.nii\n",
      "220420-17:20:05,383 nipype.interface INFO:\n",
      "\t sub: /scratch/qbi/uqkgarn1/data/derivatives/spm/sub-01/ses-02/flglm/_sub_01/beta_0111.nii -> /scratch/qbi/uqkgarn1/data/derivatives/spm/sub-01/ses-02/flglm//beta_0111.nii\n",
      "220420-17:20:05,447 nipype.interface INFO:\n",
      "\t sub: /scratch/qbi/uqkgarn1/data/derivatives/spm/sub-01/ses-02/flglm/_sub_01/beta_0112.nii -> /scratch/qbi/uqkgarn1/data/derivatives/spm/sub-01/ses-02/flglm//beta_0112.nii\n",
      "220420-17:20:05,515 nipype.interface INFO:\n",
      "\t sub: /scratch/qbi/uqkgarn1/data/derivatives/spm/sub-01/ses-02/flglm/_sub_01/beta_0113.nii -> /scratch/qbi/uqkgarn1/data/derivatives/spm/sub-01/ses-02/flglm//beta_0113.nii\n",
      "220420-17:20:05,576 nipype.interface INFO:\n",
      "\t sub: /scratch/qbi/uqkgarn1/data/derivatives/spm/sub-01/ses-02/flglm/_sub_01/beta_0114.nii -> /scratch/qbi/uqkgarn1/data/derivatives/spm/sub-01/ses-02/flglm//beta_0114.nii\n",
      "220420-17:20:05,642 nipype.interface INFO:\n",
      "\t sub: /scratch/qbi/uqkgarn1/data/derivatives/spm/sub-01/ses-02/flglm/_sub_01/beta_0115.nii -> /scratch/qbi/uqkgarn1/data/derivatives/spm/sub-01/ses-02/flglm//beta_0115.nii\n",
      "220420-17:20:05,707 nipype.interface INFO:\n",
      "\t sub: /scratch/qbi/uqkgarn1/data/derivatives/spm/sub-01/ses-02/flglm/_sub_01/beta_0116.nii -> /scratch/qbi/uqkgarn1/data/derivatives/spm/sub-01/ses-02/flglm//beta_0116.nii\n",
      "220420-17:20:05,789 nipype.interface INFO:\n",
      "\t sub: /scratch/qbi/uqkgarn1/data/derivatives/spm/sub-01/ses-02/flglm/_sub_01/beta_0117.nii -> /scratch/qbi/uqkgarn1/data/derivatives/spm/sub-01/ses-02/flglm//beta_0117.nii\n",
      "220420-17:20:05,865 nipype.interface INFO:\n",
      "\t sub: /scratch/qbi/uqkgarn1/data/derivatives/spm/sub-01/ses-02/flglm/_sub_01/beta_0118.nii -> /scratch/qbi/uqkgarn1/data/derivatives/spm/sub-01/ses-02/flglm//beta_0118.nii\n",
      "220420-17:20:05,936 nipype.interface INFO:\n",
      "\t sub: /scratch/qbi/uqkgarn1/data/derivatives/spm/sub-01/ses-02/flglm/_sub_01/beta_0119.nii -> /scratch/qbi/uqkgarn1/data/derivatives/spm/sub-01/ses-02/flglm//beta_0119.nii\n",
      "220420-17:20:05,996 nipype.interface INFO:\n",
      "\t sub: /scratch/qbi/uqkgarn1/data/derivatives/spm/sub-01/ses-02/flglm/_sub_01/beta_0120.nii -> /scratch/qbi/uqkgarn1/data/derivatives/spm/sub-01/ses-02/flglm//beta_0120.nii\n",
      "220420-17:20:06,67 nipype.interface INFO:\n",
      "\t sub: /scratch/qbi/uqkgarn1/data/derivatives/spm/sub-01/ses-02/flglm/_sub_01/beta_0121.nii -> /scratch/qbi/uqkgarn1/data/derivatives/spm/sub-01/ses-02/flglm//beta_0121.nii\n",
      "220420-17:20:06,139 nipype.interface INFO:\n",
      "\t sub: /scratch/qbi/uqkgarn1/data/derivatives/spm/sub-01/ses-02/flglm/_sub_01/beta_0122.nii -> /scratch/qbi/uqkgarn1/data/derivatives/spm/sub-01/ses-02/flglm//beta_0122.nii\n",
      "220420-17:20:06,204 nipype.interface INFO:\n",
      "\t sub: /scratch/qbi/uqkgarn1/data/derivatives/spm/sub-01/ses-02/flglm/_sub_01/SPM.mat -> /scratch/qbi/uqkgarn1/data/derivatives/spm/sub-01/ses-02/flglm//SPM.mat\n",
      "220420-17:20:06,814 nipype.interface INFO:\n",
      "\t sub: /scratch/qbi/uqkgarn1/data/derivatives/spm/sub-01/ses-02/flglm/_sub_01/ResMS.nii -> /scratch/qbi/uqkgarn1/data/derivatives/spm/sub-01/ses-02/flglm//ResMS.nii\n",
      "220420-17:20:06,934 nipype.interface INFO:\n",
      "\t sub: /scratch/qbi/uqkgarn1/data/derivatives/spm/sub-01/ses-02/flglm/_sub_01/mask.nii -> /scratch/qbi/uqkgarn1/data/derivatives/spm/sub-01/ses-02/flglm//mask.nii\n",
      "220420-17:20:06,969 nipype.workflow INFO:\n",
      "\t [Node] Finished \"glms.sink-stuff\".\n"
     ]
    },
    {
     "data": {
      "text/plain": [
       "<networkx.classes.digraph.DiGraph at 0x7f4e260a69e8>"
      ]
     },
     "execution_count": 17,
     "metadata": {},
     "output_type": "execute_result"
    }
   ],
   "source": [
    "glm.connect([(info, dg, [('sub', 'sub')]), # get sub info to feed into data grabber\n",
    "             (dg, ds, [(('motion', printSubPath), # print the path for saving data to (i.e. sub-0x/ses-0x)\n",
    "                         'container')]),\n",
    "             (dg, get_onsets, [('onsets', 'input_files')]), # get the onsets for each run into a single set of bunches\n",
    "             (dg, gunzip_func, [('func', 'in_file')]), # unzip t2\n",
    "             (dg, gunzip_mask, [('mask', 'in_file')]), # unzip masks\n",
    "             (gunzip_func, smooth, [('out_file', 'in_files')]), # smooth data\n",
    "             (smooth, ds, [('smoothed_files', 'data.@smooth')]), # save smoothed\n",
    "             (dg, get_tr, [('bjson', 'input_files')]), # get TR for model definition\n",
    "             (get_tr, model_spec, [('TR', 'time_repetition')]), # TR for model spec\n",
    "             (dg, model_spec, [('motion', 'realignment_parameters')]),\n",
    "             (get_onsets, model_spec, [('prt_output', 'subject_info')]),\n",
    "             (smooth, model_spec, [('smoothed_files', 'functional_runs')]),\n",
    "             (get_tr, level_1_design, [('TR', 'interscan_interval')]),\n",
    "             (model_spec, level_1_design, [('session_info', 'session_info')]),\n",
    "             (gunzip_mask, level_1_design, [('out_file', 'mask_image')]), \n",
    "             (level_1_design, estimate, [('spm_mat_file', 'spm_mat_file')]),\n",
    "             (estimate, ds, [('beta_images', 'flglm.@beta')]),\n",
    "             (estimate, ds, [('spm_mat_file', 'flglm.@des')]),\n",
    "             (estimate, ds, [('residual_image', 'flglm.@res')]),\n",
    "             (estimate, ds, [('mask_image', 'flglm.@mask')])\n",
    "])\n",
    "glm.run()          "
   ]
  },
  {
   "cell_type": "code",
   "execution_count": null,
   "metadata": {},
   "outputs": [],
   "source": []
  }
 ],
 "metadata": {
  "kernelspec": {
   "display_name": "Python 3",
   "language": "python",
   "name": "python3"
  },
  "language_info": {
   "codemirror_mode": {
    "name": "ipython",
    "version": 3
   },
   "file_extension": ".py",
   "mimetype": "text/x-python",
   "name": "python",
   "nbconvert_exporter": "python",
   "pygments_lexer": "ipython3",
   "version": "3.6.10"
  }
 },
 "nbformat": 4,
 "nbformat_minor": 4
}
