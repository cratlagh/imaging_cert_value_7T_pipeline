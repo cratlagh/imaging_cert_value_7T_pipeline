{
 "cells": [
  {
   "cell_type": "markdown",
   "metadata": {},
   "source": [
    "# smooth data and fit first level GLM"
   ]
  },
  {
   "cell_type": "markdown",
   "metadata": {},
   "source": [
    "K. Garner, 2022  \n",
    "This code will smooth the data and fit a first level GLM to each participant's fmri data.  \n",
    "Assumptions:  \n",
    "Data is BIDS enough.  \n"
   ]
  },
  {
   "cell_type": "markdown",
   "metadata": {},
   "source": [
    "## set up environment"
   ]
  },
  {
   "cell_type": "code",
   "execution_count": 1,
   "metadata": {},
   "outputs": [
    {
     "name": "stdout",
     "output_type": "stream",
     "text": [
      "220428-17:12:45,284 nipype.utils WARNING:\n",
      "\t A newer version (1.7.1) of nipy/nipype is available. You are using 1.5.0\n"
     ]
    }
   ],
   "source": [
    "from bids.layout import BIDSLayout\n",
    "from nipype.interfaces.io import BIDSDataGrabber, DataFinder, DataSink, DataGrabber\n",
    "import nipype.pipeline as pe\n",
    "import nipype as ni\n",
    "from nipype.interfaces.utility import Function\n",
    "import nipype.interfaces.fsl.maths as fsl\n",
    "from nipype.interfaces import spm as spm\n",
    "from nipype.algorithms import modelgen as mgen\n",
    "from nipype.algorithms.misc import Gunzip \n",
    "import pandas as pd\n",
    "import os, re, json\n",
    "# https://nipype.readthedocs.io/en/0.11.0/users/spmmcr.html\n",
    "\n",
    "matlab_cmd = '/opt/spm12-r7219/run_spm12.sh /opt/matlabmcr-2010a/v713/ script'\n",
    "spm.SPMCommand.set_mlab_paths(matlab_cmd=matlab_cmd, use_mcr=True)"
   ]
  },
  {
   "cell_type": "markdown",
   "metadata": {},
   "source": [
    "## define source data location and establish workflow"
   ]
  },
  {
   "cell_type": "code",
   "execution_count": 2,
   "metadata": {},
   "outputs": [
    {
     "name": "stderr",
     "output_type": "stream",
     "text": [
      "/opt/miniconda-latest/envs/neuro/lib/python3.6/site-packages/bids/layout/models.py:102: FutureWarning: The 'extension' entity currently excludes the leading dot ('.'). As of version 0.14.0, it will include the leading dot. To suppress this warning and include the leading dot, use `bids.config.set_option('extension_initial_dot', True)`.\n",
      "  FutureWarning)\n"
     ]
    }
   ],
   "source": [
    "basedir = '/scratch/qbi/uqkgarn1/data/'\n",
    "layout = BIDSLayout(basedir)\n",
    "subs = layout.get_subjects()\n",
    "\n",
    "glm = pe.Workflow(name='glms') # workflow to run the analysis"
   ]
  },
  {
   "cell_type": "markdown",
   "metadata": {},
   "source": [
    "## data grabbing"
   ]
  },
  {
   "cell_type": "code",
   "execution_count": 3,
   "metadata": {},
   "outputs": [],
   "source": [
    "dg = pe.Node(DataGrabber(infields= ['sub'], \n",
    "                         outfields=['func', 'motion', 'onsets', 'bjson', 'mask']), \n",
    "                         name='data-grabber')\n",
    "dg.inputs.base_dir = '/scratch/qbi/uqkgarn1/data/derivatives/fmriprep/'\n",
    "\n",
    "\n",
    "dg.inputs.sort_filelist = True\n",
    "dg.inputs.template='*'\n",
    "dg.inputs.template_args = {'func': [['sub', 'sub']],\n",
    "                           'motion':[['sub', 'sub']],\n",
    "                           'onsets':[['sub', 'sub']],\n",
    "                           'bjson':[['sub', 'sub']],\n",
    "                           'mask':[['sub', 'sub']]}\n",
    "dg.inputs.field_template = {'func':   '/scratch/qbi/uqkgarn1/data/derivatives/fmriprep/sub-%s/ses-02/func/sub-%s_*_space-MNI152NLin2009cAsym_desc-preproc_bold.nii.gz',\n",
    "                            'motion': '/scratch/qbi/uqkgarn1/data/derivatives/fmriprep/sub-%s/ses-02/func/sub-%s_ses-02_task-attlearn_run-*_desc-motion_timeseries.txt',\n",
    "                            'onsets': '/scratch/qbi/uqkgarn1/data/derivatives/fmriprep/sub-%s/ses-02/beh/sub-%s_ses-02_task-attlearn_run-*_desc-glm-onsets.json',\n",
    "                            'bjson':  '/scratch/qbi/uqkgarn1/data/derivatives/fmriprep/sub-%s/ses-02/func/sub-%s_ses-02_task-attlearn_run-*_space-MNI152NLin2009cAsym_desc-preproc_bold.json',\n",
    "                            'mask':   '/scratch/qbi/uqkgarn1/data/derivatives/fmriprep/sub-%s/ses-02/anat/sub-%s_ses-02_space-MNI152NLin2009cAsym_label-GM_probseg.nii.gz'}"
   ]
  },
  {
   "cell_type": "code",
   "execution_count": 4,
   "metadata": {},
   "outputs": [
    {
     "name": "stdout",
     "output_type": "stream",
     "text": [
      "220428-17:12:47,689 nipype.workflow INFO:\n",
      "\t [Node] Setting-up \"data-grabber\" in \"/tmp/tmpqgz9o_ly/data-grabber\".\n",
      "220428-17:12:47,695 nipype.workflow INFO:\n",
      "\t [Node] Running \"data-grabber\" (\"nipype.interfaces.io.DataGrabber\")\n",
      "220428-17:12:47,702 nipype.workflow INFO:\n",
      "\t [Node] Finished \"data-grabber\".\n"
     ]
    },
    {
     "data": {
      "text/plain": [
       "\n",
       "bjson = ['/scratch/qbi/uqkgarn1/data/derivatives/fmriprep/sub-01/ses-02/func/sub-01_ses-02_task-attlearn_run-2_space-MNI152NLin2009cAsym_desc-preproc_bold.json', '/scratch/qbi/uqkgarn1/data/derivatives/fmriprep/sub-01/ses-02/func/sub-01_ses-02_task-attlearn_run-3_space-MNI152NLin2009cAsym_desc-preproc_bold.json']\n",
       "func = ['/scratch/qbi/uqkgarn1/data/derivatives/fmriprep/sub-01/ses-02/func/sub-01_ses-02_task-attlearn_run-2_space-MNI152NLin2009cAsym_desc-preproc_bold.nii.gz', '/scratch/qbi/uqkgarn1/data/derivatives/fmriprep/sub-01/ses-02/func/sub-01_ses-02_task-attlearn_run-3_space-MNI152NLin2009cAsym_desc-preproc_bold.nii.gz']\n",
       "mask = /scratch/qbi/uqkgarn1/data/derivatives/fmriprep/sub-01/ses-02/anat/sub-01_ses-02_space-MNI152NLin2009cAsym_label-GM_probseg.nii.gz\n",
       "motion = ['/scratch/qbi/uqkgarn1/data/derivatives/fmriprep/sub-01/ses-02/func/sub-01_ses-02_task-attlearn_run-2_desc-motion_timeseries.txt', '/scratch/qbi/uqkgarn1/data/derivatives/fmriprep/sub-01/ses-02/func/sub-01_ses-02_task-attlearn_run-3_desc-motion_timeseries.txt']\n",
       "onsets = ['/scratch/qbi/uqkgarn1/data/derivatives/fmriprep/sub-01/ses-02/beh/sub-01_ses-02_task-attlearn_run-2_desc-glm-onsets.json', '/scratch/qbi/uqkgarn1/data/derivatives/fmriprep/sub-01/ses-02/beh/sub-01_ses-02_task-attlearn_run-3_desc-glm-onsets.json']"
      ]
     },
     "execution_count": 4,
     "metadata": {},
     "output_type": "execute_result"
    }
   ],
   "source": [
    "dg.inputs.sub = subs[0]\n",
    "res = dg.run()\n",
    "res.outputs"
   ]
  },
  {
   "cell_type": "code",
   "execution_count": 5,
   "metadata": {},
   "outputs": [],
   "source": [
    "info = pe.Node(ni.IdentityInterface(fields=['sub', 'sub']), name = 'info')\n",
    "info.iterables = [('sub', ['01'])]"
   ]
  },
  {
   "cell_type": "code",
   "execution_count": 6,
   "metadata": {},
   "outputs": [],
   "source": [
    "def printSubPath(full_file_path):\n",
    "    # function to split filepath into constituent parts, then print string to add as input to DataSink for the \n",
    "    # container string\n",
    "    # given the full filepath, this extracts the subj/ses folder names for input\n",
    "    # into DataSink\n",
    "    # Args\n",
    "    # -- full_file_path: cell of file names, any one of the data grabber outputs should work\n",
    "    # Returns\n",
    "    # -- string of the form 'sub'0x/ses-0x'\n",
    "    import os\n",
    "    import re\n",
    "    fname = os.path.normpath(full_file_path[0])\n",
    "    l = fname.split(os.sep)\n",
    "    sub = [s for s in l if re.search('sub', s)][0]\n",
    "    ses = [s for s in l if re.search('ses', s)][0]\n",
    "    name = [sub, ses]\n",
    "    name = '/'.join(name)\n",
    "    return name\n",
    "\n"
   ]
  },
  {
   "cell_type": "markdown",
   "metadata": {},
   "source": [
    "## datasink node for data saves"
   ]
  },
  {
   "cell_type": "code",
   "execution_count": 7,
   "metadata": {},
   "outputs": [],
   "source": [
    "ds = pe.Node(DataSink(), name='sink-stuff')\n",
    "ds.inputs.base_directory = \"/scratch/qbi/uqkgarn1/data/derivatives/spm/\"\n",
    "substitutions = [('_sub_([0-9]*)', '')]\n",
    "ds.inputs.regexp_substitutions = substitutions"
   ]
  },
  {
   "cell_type": "markdown",
   "metadata": {},
   "source": [
    "## get design info"
   ]
  },
  {
   "cell_type": "code",
   "execution_count": 8,
   "metadata": {},
   "outputs": [],
   "source": [
    "def getOnsetsJson(input_files):\n",
    "    # reads the onsets for GLM from each run, and puts together as a bunch, ready for use in spm/model def\n",
    "    # Args:\n",
    "    # -- input_files [cell list of filenames] output as 'onsets' from datagrabber\n",
    "    # Returns\n",
    "    # a Bunch of dim n runs, containing the fields 'conditions', 'onsets', 'durations'\n",
    "    from nipype.interfaces.base import Bunch\n",
    "    import json\n",
    "    prt_output = [] #prt=protocol\n",
    "    count = 0\n",
    "    for f in input_files: \n",
    "        count = count + 1\n",
    "        with open(f, \"r+\") as file:\n",
    "            data = json.load(file)\n",
    "            prt_output.insert(count, \n",
    "                              Bunch(conditions=data['names'],\n",
    "                                    onsets=data['onsets'],\n",
    "                                    durations=data['durations']))\n",
    "    return prt_output"
   ]
  },
  {
   "cell_type": "code",
   "execution_count": 9,
   "metadata": {},
   "outputs": [],
   "source": [
    "# now a node to use the getOnsetsJson function in the work flow\n",
    "get_onsets = pe.Node(Function(input_names = ['input_files'],\n",
    "                              output_names = ['prt_output'],\n",
    "                              function = getOnsetsJson),\n",
    "                     name = 'get_prt_onsets')"
   ]
  },
  {
   "cell_type": "markdown",
   "metadata": {},
   "source": [
    "## some unzipping modules so that spm can handle the images\n",
    "\n",
    "Note: I opted to create 2 to avoid output conflicts"
   ]
  },
  {
   "cell_type": "code",
   "execution_count": 10,
   "metadata": {},
   "outputs": [],
   "source": [
    "gunzip_func = pe.MapNode(Gunzip(), name='gunzipfunc', iterfield=['in_file'])\n",
    "gunzip_mask = pe.Node(Gunzip(), name='gunzipmask')"
   ]
  },
  {
   "cell_type": "markdown",
   "metadata": {},
   "source": [
    "## smooth the functional data"
   ]
  },
  {
   "cell_type": "code",
   "execution_count": 11,
   "metadata": {},
   "outputs": [],
   "source": [
    "smooth = pe.Node(spm.Smooth(), name='smooth')\n",
    "smooth.inputs.fwhm = [2, 2, 2]  # play with this for sub 1 "
   ]
  },
  {
   "cell_type": "markdown",
   "metadata": {},
   "source": [
    "## grab the TR for the model specification"
   ]
  },
  {
   "cell_type": "code",
   "execution_count": 12,
   "metadata": {},
   "outputs": [],
   "source": [
    "def getTRJson(input_files):\n",
    "    # extracts the TR in seconds from one of the json files accompanying the T2 images\n",
    "    # Args\n",
    "    # -- input_files: cell list of json files for bold images (bjson from data grabber)\n",
    "    # Returns\n",
    "    # -- TR [numeric]: TR is seconds\n",
    "    import json\n",
    "    with open(input_files[0], \"r+\") as file:\n",
    "            data = json.load(file)\n",
    "            TR = data['RepetitionTime'] \n",
    "    return TR"
   ]
  },
  {
   "cell_type": "code",
   "execution_count": 13,
   "metadata": {},
   "outputs": [],
   "source": [
    "get_tr = pe.Node(Function(input_names=['input_files'],\n",
    "                          output_names=['TR'],\n",
    "                          function=getTRJson),\n",
    "                 name='get_TR')"
   ]
  },
  {
   "cell_type": "markdown",
   "metadata": {},
   "source": [
    "## specify glm, generate design matrix and estimate"
   ]
  },
  {
   "cell_type": "code",
   "execution_count": 14,
   "metadata": {},
   "outputs": [],
   "source": [
    "model_spec = pe.Node(mgen.SpecifySPMModel(concatenate_runs=False,\n",
    "                                         input_units='secs',\n",
    "                                         output_units='secs',\n",
    "                                         high_pass_filter_cutoff=128),\n",
    "                     name=\"modelspec\")"
   ]
  },
  {
   "cell_type": "code",
   "execution_count": 15,
   "metadata": {},
   "outputs": [],
   "source": [
    "level_1_design = pe.Node(spm.Level1Design(bases={'hrf': {'derivs': [1, 1]}},\n",
    "                                          timing_units='secs',\n",
    "                                          model_serial_correlations='FAST',\n",
    "                                          factor_info=[dict(name='tgt_side', levels=2),\n",
    "                                                       dict(name='p', levels=2),\n",
    "                                                       dict(name='val', levels=4)]),\n",
    "                         name=\"level1design\")"
   ]
  },
  {
   "cell_type": "code",
   "execution_count": 16,
   "metadata": {},
   "outputs": [],
   "source": [
    "estimate = pe.Node(spm.EstimateModel(estimation_method={'Classical': 1},\n",
    "                                     write_residuals=False),\n",
    "                                     name=\"estimate\")"
   ]
  },
  {
   "cell_type": "markdown",
   "metadata": {},
   "source": [
    "## Connect workflow and run"
   ]
  },
  {
   "cell_type": "code",
   "execution_count": null,
   "metadata": {},
   "outputs": [
    {
     "name": "stdout",
     "output_type": "stream",
     "text": [
      "220428-17:12:47,840 nipype.workflow INFO:\n",
      "\t Workflow glms settings: ['check', 'execution', 'logging', 'monitoring']\n",
      "220428-17:12:47,859 nipype.workflow INFO:\n",
      "\t Running serially.\n",
      "220428-17:12:47,860 nipype.workflow INFO:\n",
      "\t [Node] Setting-up \"glms.data-grabber\" in \"/tmp/tmpqgz9o_ly/data-grabber\".\n",
      "220428-17:12:47,861 nipype.workflow INFO:\n",
      "\t [Node] Outdated cache found for \"glms.data-grabber\".\n",
      "220428-17:12:47,866 nipype.workflow INFO:\n",
      "\t [Node] Running \"data-grabber\" (\"nipype.interfaces.io.DataGrabber\")\n",
      "220428-17:12:47,871 nipype.workflow INFO:\n",
      "\t [Node] Finished \"glms.data-grabber\".\n",
      "220428-17:12:47,872 nipype.workflow INFO:\n",
      "\t [Node] Setting-up \"glms.get_TR\" in \"/tmp/tmpsnxs_dw6/glms/_sub_01/get_TR\".\n",
      "220428-17:12:47,876 nipype.workflow INFO:\n",
      "\t [Node] Running \"get_TR\" (\"nipype.interfaces.utility.wrappers.Function\")\n",
      "220428-17:12:47,880 nipype.workflow INFO:\n",
      "\t [Node] Finished \"glms.get_TR\".\n",
      "220428-17:12:47,881 nipype.workflow INFO:\n",
      "\t [Node] Setting-up \"glms.gunzipmask\" in \"/tmp/tmpkcrqvwin/glms/_sub_01/gunzipmask\".\n",
      "220428-17:12:47,885 nipype.workflow INFO:\n",
      "\t [Node] Running \"gunzipmask\" (\"nipype.algorithms.misc.Gunzip\")\n",
      "220428-17:12:48,223 nipype.workflow INFO:\n",
      "\t [Node] Finished \"glms.gunzipmask\".\n",
      "220428-17:12:48,224 nipype.workflow INFO:\n",
      "\t [Node] Setting-up \"glms.gunzipfunc\" in \"/tmp/tmp7z6uadr5/glms/_sub_01/gunzipfunc\".\n",
      "220428-17:12:48,230 nipype.workflow INFO:\n",
      "\t [Node] Setting-up \"_gunzipfunc0\" in \"/tmp/tmp7z6uadr5/glms/_sub_01/gunzipfunc/mapflow/_gunzipfunc0\".\n",
      "220428-17:12:48,233 nipype.workflow INFO:\n",
      "\t [Node] Running \"_gunzipfunc0\" (\"nipype.algorithms.misc.Gunzip\")\n",
      "220428-17:13:03,656 nipype.workflow INFO:\n",
      "\t [Node] Finished \"_gunzipfunc0\".\n",
      "220428-17:13:03,661 nipype.workflow INFO:\n",
      "\t [Node] Setting-up \"_gunzipfunc1\" in \"/tmp/tmp7z6uadr5/glms/_sub_01/gunzipfunc/mapflow/_gunzipfunc1\".\n",
      "220428-17:13:03,665 nipype.workflow INFO:\n",
      "\t [Node] Running \"_gunzipfunc1\" (\"nipype.algorithms.misc.Gunzip\")\n",
      "220428-17:13:18,998 nipype.workflow INFO:\n",
      "\t [Node] Finished \"_gunzipfunc1\".\n",
      "220428-17:13:19,3 nipype.workflow INFO:\n",
      "\t [Node] Finished \"glms.gunzipfunc\".\n",
      "220428-17:13:19,4 nipype.workflow INFO:\n",
      "\t [Node] Setting-up \"glms.smooth\" in \"/tmp/tmpf4dk1df7/glms/_sub_01/smooth\".\n",
      "220428-17:13:19,12 nipype.workflow INFO:\n",
      "\t [Node] Running \"smooth\" (\"nipype.interfaces.spm.preprocess.Smooth\")\n",
      "220428-17:19:44,774 nipype.workflow INFO:\n",
      "\t [Node] Finished \"glms.smooth\".\n",
      "220428-17:19:44,776 nipype.workflow INFO:\n",
      "\t [Node] Setting-up \"glms.get_prt_onsets\" in \"/tmp/tmpjkdafpzd/glms/_sub_01/get_prt_onsets\".\n",
      "220428-17:19:44,782 nipype.workflow INFO:\n",
      "\t [Node] Running \"get_prt_onsets\" (\"nipype.interfaces.utility.wrappers.Function\")\n",
      "220428-17:19:44,787 nipype.workflow INFO:\n",
      "\t [Node] Finished \"glms.get_prt_onsets\".\n",
      "220428-17:19:44,788 nipype.workflow INFO:\n",
      "\t [Node] Setting-up \"glms.modelspec\" in \"/tmp/tmpc_i7rlk7/glms/_sub_01/modelspec\".\n",
      "220428-17:19:44,802 nipype.workflow INFO:\n",
      "\t [Node] Running \"modelspec\" (\"nipype.algorithms.modelgen.SpecifySPMModel\")\n",
      "220428-17:19:44,910 nipype.workflow INFO:\n",
      "\t [Node] Finished \"glms.modelspec\".\n",
      "220428-17:19:44,911 nipype.workflow INFO:\n",
      "\t [Node] Setting-up \"glms.level1design\" in \"/tmp/tmpkcoae5q2/glms/_sub_01/level1design\".\n",
      "220428-17:19:45,206 nipype.workflow INFO:\n",
      "\t [Node] Running \"level1design\" (\"nipype.interfaces.spm.model.Level1Design\")\n",
      "220428-17:20:44,7 nipype.workflow INFO:\n",
      "\t [Node] Finished \"glms.level1design\".\n",
      "220428-17:20:44,9 nipype.workflow INFO:\n",
      "\t [Node] Setting-up \"glms.estimate\" in \"/tmp/tmpf16cczuc/glms/_sub_01/estimate\".\n",
      "220428-17:20:44,51 nipype.workflow INFO:\n",
      "\t [Node] Running \"estimate\" (\"nipype.interfaces.spm.model.EstimateModel\")\n"
     ]
    }
   ],
   "source": [
    "glm.connect([(info, dg, [('sub', 'sub')]), # get sub info to feed into data grabber\n",
    "             (dg, ds, [(('motion', printSubPath), # print the path for saving data to (i.e. sub-0x/ses-0x)\n",
    "                         'container')]),\n",
    "             (dg, get_onsets, [('onsets', 'input_files')]), # get the onsets for each run into a single set of bunches\n",
    "             (dg, gunzip_func, [('func', 'in_file')]), # unzip t2\n",
    "             (dg, gunzip_mask, [('mask', 'in_file')]), # unzip masks\n",
    "             (gunzip_func, smooth, [('out_file', 'in_files')]), # smooth data\n",
    "             (smooth, ds, [('smoothed_files', 'data.@smooth')]), # save smoothed\n",
    "             (dg, get_tr, [('bjson', 'input_files')]), # get TR for model definition\n",
    "             (get_tr, model_spec, [('TR', 'time_repetition')]), # TR for model spec\n",
    "             (dg, model_spec, [('motion', 'realignment_parameters')]),\n",
    "             (get_onsets, model_spec, [('prt_output', 'subject_info')]),\n",
    "             (smooth, model_spec, [('smoothed_files', 'functional_runs')]),\n",
    "             (get_tr, level_1_design, [('TR', 'interscan_interval')]),\n",
    "             (model_spec, level_1_design, [('session_info', 'session_info')]),\n",
    "             (gunzip_mask, level_1_design, [('out_file', 'mask_image')]), \n",
    "             (level_1_design, estimate, [('spm_mat_file', 'spm_mat_file')]),\n",
    "             (estimate, ds, [('beta_images', 'flglm.@beta')]),\n",
    "             (estimate, ds, [('spm_mat_file', 'flglm.@des')]),\n",
    "             (estimate, ds, [('residual_image', 'flglm.@res')]),\n",
    "             (estimate, ds, [('mask_image', 'flglm.@mask')])\n",
    "])\n",
    "glm.run()          "
   ]
  },
  {
   "cell_type": "code",
   "execution_count": null,
   "metadata": {},
   "outputs": [],
   "source": []
  }
 ],
 "metadata": {
  "kernelspec": {
   "display_name": "Python 3",
   "language": "python",
   "name": "python3"
  },
  "language_info": {
   "codemirror_mode": {
    "name": "ipython",
    "version": 3
   },
   "file_extension": ".py",
   "mimetype": "text/x-python",
   "name": "python",
   "nbconvert_exporter": "python",
   "pygments_lexer": "ipython3",
   "version": "3.6.10"
  }
 },
 "nbformat": 4,
 "nbformat_minor": 4
}
